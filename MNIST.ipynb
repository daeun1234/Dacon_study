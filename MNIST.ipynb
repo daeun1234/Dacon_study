{
 "cells": [
  {
   "cell_type": "code",
   "execution_count": 8,
   "id": "a3299407",
   "metadata": {},
   "outputs": [],
   "source": [
    "import numpy as np\n",
    "import pandas as pd\n",
    "import matplotlib.pyplot as plt\n",
    "%matplotlib inline\n",
    "\n",
    "from sklearn.utils import shuffle\n",
    "from keras.models import Sequential\n",
    "from keras.layers import Dense, Dropout, Flatten"
   ]
  },
  {
   "cell_type": "markdown",
   "id": "b5dee6ea",
   "metadata": {},
   "source": [
    "Data Load"
   ]
  },
  {
   "cell_type": "code",
   "execution_count": 9,
   "id": "1d664447",
   "metadata": {},
   "outputs": [],
   "source": [
    "train = pd.read_csv('C:/Users/DAEUN/Downloads/mnist/train.csv')\n",
    "test = pd.read_csv('C:/Users/DAEUN/Downloads/mnist/test.csv')\n",
    "submission = pd.read_csv('C:/Users/DAEUN/Downloads/mnist/sample_submission.csv')"
   ]
  },
  {
   "cell_type": "code",
   "execution_count": 10,
   "id": "8c2aa691",
   "metadata": {},
   "outputs": [
    {
     "name": "stdout",
     "output_type": "stream",
     "text": [
      "(60000, 786)\n",
      "(10000, 785)\n"
     ]
    }
   ],
   "source": [
    "train_shape = np.shape(train)\n",
    "test_shape = np.shape(test)\n",
    "img_size = (28, 28)\n",
    "\n",
    "print(train_shape)\n",
    "print(test_shape)"
   ]
  },
  {
   "cell_type": "code",
   "execution_count": 11,
   "id": "ad271a8e",
   "metadata": {},
   "outputs": [
    {
     "data": {
      "text/plain": [
       "Text(0.5, 1.0, 'Digit : 1')"
      ]
     },
     "execution_count": 11,
     "metadata": {},
     "output_type": "execute_result"
    },
    {
     "data": {
      "image/png": "[encoded data removed]",
      "text/plain": [
       "<Figure size 432x288 with 1 Axes>"
      ]
     },
     "metadata": {
      "needs_background": "light"
     },
     "output_type": "display_data"
    }
   ],
   "source": [
    "n = np.random.randint(0,train_shape[0]) # Generating Random Number\n",
    "sample = train.iloc[n,2:]\n",
    "sample = np.array(sample)\n",
    "sample = np.reshape(sample,img_size)\n",
    "\n",
    "plt.imshow(sample, cmap='gray')\n",
    "plt.title('Digit : ' + str(train.iloc[n,1]))"
   ]
  },
  {
   "cell_type": "code",
   "execution_count": 12,
   "id": "557a13e9",
   "metadata": {},
   "outputs": [
    {
     "name": "stdout",
     "output_type": "stream",
     "text": [
      " Labels and their count :\n",
      " {1: 6742, 7: 6265, 3: 6131, 2: 5958, 9: 5949, 0: 5923, 6: 5918, 8: 5851, 4: 5842, 5: 5421}\n"
     ]
    },
    {
     "data": {
      "image/png": "[encoded data removed]",
      "text/plain": [
       "<Figure size 720x360 with 1 Axes>"
      ]
     },
     "metadata": {
      "needs_background": "light"
     },
     "output_type": "display_data"
    }
   ],
   "source": [
    "label_count = dict(train.label.value_counts())\n",
    "print(f' Labels and their count :\\n {label_count}')\n",
    "\n",
    "x = list(label_count.keys())\n",
    "y = list(label_count.values())\n",
    "\n",
    "fig = plt.figure(figsize = (10,5))\n",
    "plt.bar(x,y,width = 0.5)\n",
    "plt.title('Labels vs Count')\n",
    "plt.xlabel('Labels')\n",
    "plt.ylabel('Count')\n",
    "plt.show()"
   ]
  },
  {
   "cell_type": "markdown",
   "id": "1f033008",
   "metadata": {},
   "source": [
    "Preprocessing"
   ]
  },
  {
   "cell_type": "code",
   "execution_count": 13,
   "id": "19e6a4b6",
   "metadata": {},
   "outputs": [],
   "source": [
    "train_images = []\n",
    "\n",
    "for i in range(train_shape[0]):\n",
    "    data = train.iloc[i,2:]\n",
    "    data = np.array(data)\n",
    "    data = np.reshape(data,img_size)\n",
    "    train_images.append(data)\n",
    "    \n",
    "train_images = np.array(train_images)"
   ]
  },
  {
   "cell_type": "code",
   "execution_count": 14,
   "id": "f4642b43",
   "metadata": {},
   "outputs": [],
   "source": [
    "test_images = []\n",
    "\n",
    "for i in range(test_shape[0]):\n",
    "    data = test.iloc[i,1:]\n",
    "    data = np.array(data)\n",
    "    data = np.reshape(data,img_size)\n",
    "    test_images.append(data)\n",
    "\n",
    "test_images = np.array(test_images)"
   ]
  },
  {
   "cell_type": "code",
   "execution_count": 15,
   "id": "c7e9f92f",
   "metadata": {},
   "outputs": [],
   "source": [
    "train_labels = list(train.iloc[:,1])\n",
    "train_labels = np.array(train_labels)\n",
    "train_labels = np.reshape(train_labels,(train_shape[0],1))"
   ]
  },
  {
   "cell_type": "code",
   "execution_count": 16,
   "id": "f317038a",
   "metadata": {},
   "outputs": [
    {
     "name": "stdout",
     "output_type": "stream",
     "text": [
      "[[  0   0   0   0   0   0   0   0   0   0   0   0   0   0   0   0   0   0\n",
      "    0   0   0   0   0   0   0   0   0   0]\n",
      " [  0   0   0   0   0   0   0   0   0   0   0   0   0   0   0   0   0   0\n",
      "    0   0   0   0   0   0   0   0   0   0]\n",
      " [  0   0   0   0   0   0   0   0   0   0   0   0   0   0   0   0   0   0\n",
      "    0   0   0   0   0   0   0   0   0   0]\n",
      " [  0   0   0   0   0   0   0   0   0   0   0   0   0   0   0   0   0   0\n",
      "    0   0   0   0   0   0   0   0   0   0]\n",
      " [  0   0   0   0   0   0   0   0   0   0   0   0   0   0   0   0   0   0\n",
      "    0   0   0   0   0   0   0   0   0   0]\n",
      " [  0   0   0   0   0   0   0   0   0   0   0   0   3  18  18  18 126 136\n",
      "  175  26 166 255 247 127   0   0   0   0]\n",
      " [  0   0   0   0   0   0   0   0  30  36  94 154 170 253 253 253 253 253\n",
      "  225 172 253 242 195  64   0   0   0   0]\n",
      " [  0   0   0   0   0   0   0  49 238 253 253 253 253 253 253 253 253 251\n",
      "   93  82  82  56  39   0   0   0   0   0]\n",
      " [  0   0   0   0   0   0   0  18 219 253 253 253 253 253 198 182 247 241\n",
      "    0   0   0   0   0   0   0   0   0   0]\n",
      " [  0   0   0   0   0   0   0   0  80 156 107 253 253 205  11   0  43 154\n",
      "    0   0   0   0   0   0   0   0   0   0]\n",
      " [  0   0   0   0   0   0   0   0   0  14   1 154 253  90   0   0   0   0\n",
      "    0   0   0   0   0   0   0   0   0   0]\n",
      " [  0   0   0   0   0   0   0   0   0   0   0 139 253 190   2   0   0   0\n",
      "    0   0   0   0   0   0   0   0   0   0]\n",
      " [  0   0   0   0   0   0   0   0   0   0   0  11 190 253  70   0   0   0\n",
      "    0   0   0   0   0   0   0   0   0   0]\n",
      " [  0   0   0   0   0   0   0   0   0   0   0   0  35 241 225 160 108   1\n",
      "    0   0   0   0   0   0   0   0   0   0]\n",
      " [  0   0   0   0   0   0   0   0   0   0   0   0   0  81 240 253 253 119\n",
      "   25   0   0   0   0   0   0   0   0   0]\n",
      " [  0   0   0   0   0   0   0   0   0   0   0   0   0   0  45 186 253 253\n",
      "  150  27   0   0   0   0   0   0   0   0]\n",
      " [  0   0   0   0   0   0   0   0   0   0   0   0   0   0   0  16  93 252\n",
      "  253 187   0   0   0   0   0   0   0   0]\n",
      " [  0   0   0   0   0   0   0   0   0   0   0   0   0   0   0   0   0 249\n",
      "  253 249  64   0   0   0   0   0   0   0]\n",
      " [  0   0   0   0   0   0   0   0   0   0   0   0   0   0  46 130 183 253\n",
      "  253 207   2   0   0   0   0   0   0   0]\n",
      " [  0   0   0   0   0   0   0   0   0   0   0   0  39 148 229 253 253 253\n",
      "  250 182   0   0   0   0   0   0   0   0]\n",
      " [  0   0   0   0   0   0   0   0   0   0  24 114 221 253 253 253 253 201\n",
      "   78   0   0   0   0   0   0   0   0   0]\n",
      " [  0   0   0   0   0   0   0   0  23  66 213 253 253 253 253 198  81   2\n",
      "    0   0   0   0   0   0   0   0   0   0]\n",
      " [  0   0   0   0   0   0  18 171 219 253 253 253 253 195  80   9   0   0\n",
      "    0   0   0   0   0   0   0   0   0   0]\n",
      " [  0   0   0   0  55 172 226 253 253 253 253 244 133  11   0   0   0   0\n",
      "    0   0   0   0   0   0   0   0   0   0]\n",
      " [  0   0   0   0 136 253 253 253 212 135 132  16   0   0   0   0   0   0\n",
      "    0   0   0   0   0   0   0   0   0   0]\n",
      " [  0   0   0   0   0   0   0   0   0   0   0   0   0   0   0   0   0   0\n",
      "    0   0   0   0   0   0   0   0   0   0]\n",
      " [  0   0   0   0   0   0   0   0   0   0   0   0   0   0   0   0   0   0\n",
      "    0   0   0   0   0   0   0   0   0   0]\n",
      " [  0   0   0   0   0   0   0   0   0   0   0   0   0   0   0   0   0   0\n",
      "    0   0   0   0   0   0   0   0   0   0]]\n"
     ]
    }
   ],
   "source": [
    "print(train_images[0])"
   ]
  },
  {
   "cell_type": "markdown",
   "id": "ec4552a1",
   "metadata": {},
   "source": [
    "Model"
   ]
  },
  {
   "cell_type": "code",
   "execution_count": 47,
   "id": "5a0ef2a0",
   "metadata": {},
   "outputs": [],
   "source": [
    "model = Sequential([\n",
    "    Flatten(input_shape=(28, 28)),\n",
    "    Dense(512, activation='relu'),\n",
    "    Dense(256, activation='relu'),\n",
    "    Dropout(0.5),\n",
    "    Dense(128, activation='relu'),\n",
    "    Dense(68, activation='relu'),\n",
    "    Dense(32, activation='relu'),\n",
    "    Dense(10, activation='softmax')\n",
    "])"
   ]
  },
  {
   "cell_type": "code",
   "execution_count": 48,
   "id": "8118a859",
   "metadata": {},
   "outputs": [],
   "source": [
    "model.compile(optimizer='adam',\n",
    "              loss='sparse_categorical_crossentropy',\n",
    "              metrics=['accuracy'])"
   ]
  },
  {
   "cell_type": "code",
   "execution_count": 49,
   "id": "993ccb84",
   "metadata": {},
   "outputs": [
    {
     "name": "stdout",
     "output_type": "stream",
     "text": [
      "Epoch 1/50\n",
      "1875/1875 [==============================] - 18s 9ms/step - loss: 1.1436 - accuracy: 0.7837\n",
      "Epoch 2/50\n",
      "1875/1875 [==============================] - 17s 9ms/step - loss: 0.2973 - accuracy: 0.9194\n",
      "Epoch 3/50\n",
      "1875/1875 [==============================] - 17s 9ms/step - loss: 0.2196 - accuracy: 0.9414\n",
      "Epoch 4/50\n",
      "1875/1875 [==============================] - 17s 9ms/step - loss: 0.1675 - accuracy: 0.9575\n",
      "Epoch 5/50\n",
      "1875/1875 [==============================] - 17s 9ms/step - loss: 0.1417 - accuracy: 0.9638\n",
      "Epoch 6/50\n",
      "1875/1875 [==============================] - 17s 9ms/step - loss: 0.1228 - accuracy: 0.9687\n",
      "Epoch 7/50\n",
      "1875/1875 [==============================] - 17s 9ms/step - loss: 0.1091 - accuracy: 0.9718\n",
      "Epoch 8/50\n",
      "1875/1875 [==============================] - 18s 9ms/step - loss: 0.0981 - accuracy: 0.9748\n",
      "Epoch 9/50\n",
      "1875/1875 [==============================] - 17s 9ms/step - loss: 0.0869 - accuracy: 0.9782\n",
      "Epoch 10/50\n",
      "1875/1875 [==============================] - 17s 9ms/step - loss: 0.0789 - accuracy: 0.9794\n",
      "Epoch 11/50\n",
      "1875/1875 [==============================] - 17s 9ms/step - loss: 0.0756 - accuracy: 0.9818\n",
      "Epoch 12/50\n",
      "1875/1875 [==============================] - 18s 9ms/step - loss: 0.0660 - accuracy: 0.9833\n",
      "Epoch 13/50\n",
      "1875/1875 [==============================] - 18s 10ms/step - loss: 0.0609 - accuracy: 0.9847\n",
      "Epoch 14/50\n",
      "1875/1875 [==============================] - 17s 9ms/step - loss: 0.0636 - accuracy: 0.9848\n",
      "Epoch 15/50\n",
      "1875/1875 [==============================] - 17s 9ms/step - loss: 0.0567 - accuracy: 0.9866\n",
      "Epoch 16/50\n",
      "1875/1875 [==============================] - 17s 9ms/step - loss: 0.0588 - accuracy: 0.9859\n",
      "Epoch 17/50\n",
      "1875/1875 [==============================] - 18s 10ms/step - loss: 0.0474 - accuracy: 0.9887\n",
      "Epoch 18/50\n",
      "1875/1875 [==============================] - 17s 9ms/step - loss: 0.0504 - accuracy: 0.9878\n",
      "Epoch 19/50\n",
      "1875/1875 [==============================] - 17s 9ms/step - loss: 0.0554 - accuracy: 0.9874\n",
      "Epoch 20/50\n",
      "1875/1875 [==============================] - 18s 9ms/step - loss: 0.0492 - accuracy: 0.9887\n",
      "Epoch 21/50\n",
      "1875/1875 [==============================] - 18s 9ms/step - loss: 0.0463 - accuracy: 0.9893\n",
      "Epoch 22/50\n",
      "1875/1875 [==============================] - 18s 9ms/step - loss: 0.0424 - accuracy: 0.9906\n",
      "Epoch 23/50\n",
      "1875/1875 [==============================] - 18s 9ms/step - loss: 0.0423 - accuracy: 0.9907\n",
      "Epoch 24/50\n",
      "1875/1875 [==============================] - 18s 10ms/step - loss: 0.0464 - accuracy: 0.9898\n",
      "Epoch 25/50\n",
      "1875/1875 [==============================] - 18s 10ms/step - loss: 0.0448 - accuracy: 0.9899\n",
      "Epoch 26/50\n",
      "1875/1875 [==============================] - 18s 10ms/step - loss: 0.0427 - accuracy: 0.9911\n",
      "Epoch 27/50\n",
      "1875/1875 [==============================] - 18s 10ms/step - loss: 0.0384 - accuracy: 0.9915\n",
      "Epoch 28/50\n",
      "1875/1875 [==============================] - 18s 10ms/step - loss: 0.0508 - accuracy: 0.9902\n",
      "Epoch 29/50\n",
      "1875/1875 [==============================] - 18s 10ms/step - loss: 0.0402 - accuracy: 0.9919\n",
      "Epoch 30/50\n",
      "1875/1875 [==============================] - 18s 10ms/step - loss: 0.0366 - accuracy: 0.9925\n",
      "Epoch 31/50\n",
      "1875/1875 [==============================] - 18s 10ms/step - loss: 0.0393 - accuracy: 0.9923\n",
      "Epoch 32/50\n",
      "1875/1875 [==============================] - 18s 10ms/step - loss: 0.0307 - accuracy: 0.9932\n",
      "Epoch 33/50\n",
      "1875/1875 [==============================] - 18s 9ms/step - loss: 0.0372 - accuracy: 0.9926\n",
      "Epoch 34/50\n",
      "1875/1875 [==============================] - 18s 10ms/step - loss: 0.0351 - accuracy: 0.9926\n",
      "Epoch 35/50\n",
      "1875/1875 [==============================] - 18s 10ms/step - loss: 0.0406 - accuracy: 0.9922\n",
      "Epoch 36/50\n",
      "1875/1875 [==============================] - 19s 10ms/step - loss: 0.0298 - accuracy: 0.9933\n",
      "Epoch 37/50\n",
      "1875/1875 [==============================] - 19s 10ms/step - loss: 0.0425 - accuracy: 0.9919\n",
      "Epoch 38/50\n",
      "1875/1875 [==============================] - 19s 10ms/step - loss: 0.0414 - accuracy: 0.9918\n",
      "Epoch 39/50\n",
      "1875/1875 [==============================] - 19s 10ms/step - loss: 0.0303 - accuracy: 0.9936\n",
      "Epoch 40/50\n",
      "1875/1875 [==============================] - 19s 10ms/step - loss: 0.0325 - accuracy: 0.9937\n",
      "Epoch 41/50\n",
      "1875/1875 [==============================] - 20s 11ms/step - loss: 0.0426 - accuracy: 0.9924\n",
      "Epoch 42/50\n",
      "1875/1875 [==============================] - 16s 9ms/step - loss: 0.0468 - accuracy: 0.9909\n",
      "Epoch 43/50\n",
      "1875/1875 [==============================] - 17s 9ms/step - loss: 0.0334 - accuracy: 0.9931\n",
      "Epoch 44/50\n",
      "1875/1875 [==============================] - 16s 9ms/step - loss: 0.0392 - accuracy: 0.9932\n",
      "Epoch 45/50\n",
      "1875/1875 [==============================] - 16s 9ms/step - loss: 0.0356 - accuracy: 0.9932\n",
      "Epoch 46/50\n",
      "1875/1875 [==============================] - 15s 8ms/step - loss: 0.0304 - accuracy: 0.9938\n",
      "Epoch 47/50\n",
      "1875/1875 [==============================] - 15s 8ms/step - loss: 0.0308 - accuracy: 0.9936\n",
      "Epoch 48/50\n",
      "1875/1875 [==============================] - 16s 9ms/step - loss: 0.0295 - accuracy: 0.9937\n",
      "Epoch 49/50\n",
      "1875/1875 [==============================] - 16s 8ms/step - loss: 0.0654 - accuracy: 0.9902\n",
      "Epoch 50/50\n",
      "1875/1875 [==============================] - 16s 8ms/step - loss: 0.0359 - accuracy: 0.9939\n"
     ]
    },
    {
     "data": {
      "text/plain": [
       "<keras.callbacks.History at 0x2cbd399de20>"
      ]
     },
     "execution_count": 49,
     "metadata": {},
     "output_type": "execute_result"
    }
   ],
   "source": [
    "model.fit(train_images, train_labels, batch_size = 32, epochs = 50)"
   ]
  },
  {
   "cell_type": "code",
   "execution_count": null,
   "id": "92446269",
   "metadata": {},
   "outputs": [],
   "source": [
    "# loss, accuracy = [], []\n",
    "# for i in range(10):\n",
    "#     model.fit(train_images, train_labels, epochs=1)\n",
    "#     loss.append(model.evaluate(train_images, train_labels)[0])\n",
    "#     accuracy.append(model.evaluate(train_images, train_labels)[1])\n",
    "\n",
    "# print(accuracy)"
   ]
  },
  {
   "cell_type": "code",
   "execution_count": 50,
   "id": "8791b12f",
   "metadata": {},
   "outputs": [],
   "source": [
    "myModel = submission.copy()"
   ]
  },
  {
   "cell_type": "code",
   "execution_count": 51,
   "id": "4a8f25e3",
   "metadata": {},
   "outputs": [],
   "source": [
    "myModel['label'] = np.argmax(model.predict(test_images),axis=1)"
   ]
  },
  {
   "cell_type": "code",
   "execution_count": 52,
   "id": "f9889678",
   "metadata": {},
   "outputs": [
    {
     "data": {
      "text/plain": [
       "0    7\n",
       "1    2\n",
       "2    1\n",
       "3    0\n",
       "4    4\n",
       "Name: label, dtype: int64"
      ]
     },
     "execution_count": 52,
     "metadata": {},
     "output_type": "execute_result"
    }
   ],
   "source": [
    "myModel['label'].head()"
   ]
  },
  {
   "cell_type": "code",
   "execution_count": 53,
   "id": "eeabed5f",
   "metadata": {},
   "outputs": [],
   "source": [
    "myModel.to_csv('Answer.csv', index = False)"
   ]
  }
 ],
 "metadata": {
  "kernelspec": {
   "display_name": "Python 3 (ipykernel)",
   "language": "python",
   "name": "python3"
  },
  "language_info": {
   "codemirror_mode": {
    "name": "ipython",
    "version": 3
   },
   "file_extension": ".py",
   "mimetype": "text/x-python",
   "name": "python",
   "nbconvert_exporter": "python",
   "pygments_lexer": "ipython3",
   "version": "3.9.7"
  }
 },
 "nbformat": 4,
 "nbformat_minor": 5
}
